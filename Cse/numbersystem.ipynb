{
 "cells": [
  {
   "cell_type": "markdown",
   "metadata": {},
   "source": [
    "Decimal Number:\n",
    "    base  = 10\n",
    "    eg : 0,1,2,3,4,5,6,7,8,9\n",
    "Binary Number:\n",
    "    base = 2\n",
    "    eg : 0,1\n",
    "Octal Number:\n",
    "    base = 8\n",
    "    eg : 0,1,2,3,4,5,6,7\n",
    "Hexadecimal Number:\n",
    "    base = 6\n",
    "    eg : 0,1,2,3,4,5,6,7,8,9,10 - A,11 - B,12 - C,13 - D,14 - E,15 - E"
   ]
  },
  {
   "cell_type": "code",
   "execution_count": 2,
   "metadata": {},
   "outputs": [
    {
     "name": "stdout",
     "output_type": "stream",
     "text": [
      "Decimal to binary\n",
      "0b100111\n",
      "11001\n"
     ]
    }
   ],
   "source": [
    "#Nummber Conversion System\n",
    "\n",
    "print(\"Decimal to binary\")\n",
    "Deci = 39\n",
    "binary = bin(Deci)\n",
    "print(binary)\n",
    "Quotient = 0\n",
    "string = \"\"\n",
    "while Quotient != 1:\n",
    "    remaider = Deci % 2\n",
    "    temp = int(Dec / 2)\n",
    "    remaider = temp % 2\n",
    "    Quotient = temp\n",
    "    string += str(remaider)\n",
    "    Dec = temp\n",
    "    \n",
    "print(string)\n",
    "    \n",
    "    "
   ]
  }
 ],
 "metadata": {
  "kernelspec": {
   "display_name": "Python 3",
   "language": "python",
   "name": "python3"
  },
  "language_info": {
   "codemirror_mode": {
    "name": "ipython",
    "version": 3
   },
   "file_extension": ".py",
   "mimetype": "text/x-python",
   "name": "python",
   "nbconvert_exporter": "python",
   "pygments_lexer": "ipython3",
   "version": "3.12.4"
  }
 },
 "nbformat": 4,
 "nbformat_minor": 2
}
