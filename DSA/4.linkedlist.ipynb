{
 "cells": [
  {
   "cell_type": "markdown",
   "metadata": {},
   "source": [
    "#linked list\n",
    "#       head\n",
    "#left(high)      right(less)\n",
    "\n",
    "\"Pascal Case\"\n",
    "print('''\n",
    "      Pascal Case - each word starts with capital\n",
    "      MyVariable\n",
    "      ''')\n",
    "\"Camel Case\"\n",
    "print('''\n",
    "      Camel Case - first word starts with small\n",
    "      myVariable\n",
    "      ''')\n",
    "\"Snake Case\"\n",
    "print('''\n",
    "      Snake Case - sepearated by underscore\n",
    "      my_variable\n",
    "      ''')\n",
    "\n",
    "      Node,address,"
   ]
  },
  {
   "cell_type": "code",
   "execution_count": null,
   "metadata": {
    "vscode": {
     "languageId": "plaintext"
    }
   },
   "outputs": [],
   "source": []
  }
 ],
 "metadata": {
  "language_info": {
   "name": "python"
  }
 },
 "nbformat": 4,
 "nbformat_minor": 2
}
