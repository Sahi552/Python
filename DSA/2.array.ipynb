{
 "cells": [
  {
   "cell_type": "markdown",
   "metadata": {},
   "source": [
    "syntax:\n",
    "    from array import *  \n",
    "    arrayName = array(typecode, [initializers]) \n",
    "    or\n",
    "    import array\n",
    "    arrayName = array.array(typecode, [initializers])\n",
    "typecode:\n",
    "    i - unsigned int (both '+' and '-')\n",
    "    I - signed int (only '+')\n",
    "    u - unicode character\n",
    "op:\n",
    "    buffer_info() - prints address and size of an array\n",
    "    typecode - returns typecode\n",
    "    itemsize - size of an array in bytes\n",
    "    index(value,start,end) - return occurences or index of value "
   ]
  },
  {
   "cell_type": "code",
   "execution_count": 1,
   "metadata": {},
   "outputs": [
    {
     "name": "stdout",
     "output_type": "stream",
     "text": [
      "2\n",
      "(2870293255200, 2)\n",
      "1\n",
      "array('u', 'fggrgik')\n",
      "array('u', 'ik')\n",
      "['f', 'g', 'g', 'r', 'g']\n"
     ]
    }
   ],
   "source": [
    "from array import array\n",
    "first_array = array('u',['f','g','g','r','g'])\n",
    "second_arrray = array('u',['i','k'])\n",
    "print(first_array.itemsize)\n",
    "print(second_arrray.buffer_info())\n",
    "print(first_array.index('g'))\n",
    "print(first_array + second_arrray)\n",
    "third_list = first_array.tolist()\n",
    "second_arrray.tounicode()\n",
    "print(second_arrray)\n",
    "print(third_list)"
   ]
  },
  {
   "cell_type": "code",
   "execution_count": 5,
   "metadata": {},
   "outputs": [
    {
     "name": "stdout",
     "output_type": "stream",
     "text": [
      "array('I', [65, 66, 67, 68, 69, 70, 71, 72, 73, 74, 75, 76, 77, 78, 79, 80, 81, 82, 83, 84, 85, 86, 87, 88, 89, 90, 91, 92, 93, 94, 95, 96, 97, 98, 99, 100, 101, 102, 103, 104, 105])\n"
     ]
    }
   ],
   "source": [
    "roll = array('I',[])\n",
    "for i in range(65, 106):\n",
    "    roll.append(i)\n",
    "print(roll)"
   ]
  },
  {
   "cell_type": "code",
   "execution_count": 4,
   "metadata": {},
   "outputs": [
    {
     "name": "stdout",
     "output_type": "stream",
     "text": [
      "array('I', [65, 66, 67, 68, 69, 70, 71, 72, 73, 74, 75, 76, 77, 78, 79, 80, 81, 82, 83, 84, 85, 86, 87, 88, 89, 90, 91, 92, 93, 94, 95, 96, 97, 98, 99, 100, 101, 102, 103, 104, 105])\n",
      "array('I', [71, 72])\n",
      "array('I', [32, 33, 33, 34, 34, 35, 35, 36, 36, 37, 37, 38, 38, 39, 39, 40, 40, 41, 41, 42, 42, 43, 43, 44, 44, 45, 45, 46, 46, 47, 47, 48, 48, 49, 49, 50, 50, 51, 51, 52, 52])\n"
     ]
    }
   ],
   "source": [
    "#reverse\n",
    "roll.reverse()\n",
    "print(roll)\n",
    "#slice\n",
    "print(roll[6:8])\n",
    "#new\n",
    "clsRoll = array(roll.typecode , [int(a/2) for a in roll])\n",
    "print(clsRoll)"
   ]
  }
 ],
 "metadata": {
  "kernelspec": {
   "display_name": "Python 3",
   "language": "python",
   "name": "python3"
  },
  "language_info": {
   "codemirror_mode": {
    "name": "ipython",
    "version": 3
   },
   "file_extension": ".py",
   "mimetype": "text/x-python",
   "name": "python",
   "nbconvert_exporter": "python",
   "pygments_lexer": "ipython3",
   "version": "3.12.4"
  }
 },
 "nbformat": 4,
 "nbformat_minor": 2
}
