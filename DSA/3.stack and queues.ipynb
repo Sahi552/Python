{
 "cells": [
  {
   "cell_type": "markdown",
   "metadata": {},
   "source": [
    "Stack\n",
    "A Stack is a data structure that follows the LIFO(Last In First Out) principle. To implement a stack, we need two simple operations:\n",
    "\n",
    "push - It adds an element to the top of the stack.\n",
    "pop - It removes an element from the top of the stack."
   ]
  },
  {
   "cell_type": "code",
   "execution_count": 12,
   "metadata": {},
   "outputs": [
    {
     "name": "stdout",
     "output_type": "stream",
     "text": [
      "['Mobile', 'Laptop', 'Refrigirator']\n",
      "['Mobile', 'Laptop', 'Refrigirator', 'computer', 'Television']\n",
      "['Mobile', 'Laptop', 'Refrigirator', 'computer']\n"
     ]
    }
   ],
   "source": [
    "#stack\n",
    "electronics = [\"Mobile\",\"Laptop\",\"Refrigirator\"]\n",
    "print(electronics)\n",
    "electronics.append(\"computer\")\n",
    "electronics.append(\"Television\")\n",
    "print(electronics)\n",
    "electronics.pop()\n",
    "print(electronics)"
   ]
  },
  {
   "cell_type": "code",
   "execution_count": 13,
   "metadata": {},
   "outputs": [
    {
     "name": "stdout",
     "output_type": "stream",
     "text": [
      "4\n",
      "['Mobile', 'Laptop', 'Refrigirator', 'computer']\n",
      "3\n",
      "['Mobile', 'Laptop', 'Refrigirator']\n",
      "2\n",
      "['Mobile', 'Laptop']\n",
      "1\n",
      "['Mobile']\n"
     ]
    }
   ],
   "source": [
    "for i in range(len(electronics)):\n",
    "    print(len(electronics))\n",
    "    print(electronics)\n",
    "    electronics.pop()"
   ]
  }
 ],
 "metadata": {
  "kernelspec": {
   "display_name": "Python 3",
   "language": "python",
   "name": "python3"
  },
  "language_info": {
   "codemirror_mode": {
    "name": "ipython",
    "version": 3
   },
   "file_extension": ".py",
   "mimetype": "text/x-python",
   "name": "python",
   "nbconvert_exporter": "python",
   "pygments_lexer": "ipython3",
   "version": "3.12.2"
  }
 },
 "nbformat": 4,
 "nbformat_minor": 2
}
