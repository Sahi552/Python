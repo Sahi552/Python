{
 "cells": [
  {
   "cell_type": "markdown",
   "metadata": {},
   "source": [
    "Stack\n",
    "A Stack is a data structure that follows the LIFO(Last In First Out) principle. To implement a stack, we need two simple operations:\n",
    "\n",
    "push - It adds an element to the top of the stack.\n",
    "pop - It removes an element from the top of the stack."
   ]
  },
  {
   "cell_type": "code",
   "execution_count": null,
   "metadata": {},
   "outputs": [],
   "source": [
    "#stack\n",
    "electronics = [\"Mobile\",\"Laptop\",\"Refrigirator\"]\n",
    "print(electronics)\n",
    "electronics.append(\"computer\")\n",
    "electronics.append(\"Television\")\n",
    "print(electronics)\n",
    "electronics.pop()\n",
    "print(electronics)"
   ]
  },
  {
   "cell_type": "code",
   "execution_count": null,
   "metadata": {},
   "outputs": [],
   "source": [
    "for i in range(len(electronics)):\n",
    "    print(len(electronics))\n",
    "    print(electronics)\n",
    "    electronics.pop()"
   ]
  },
  {
   "cell_type": "markdown",
   "metadata": {},
   "source": []
  }
 ],
 "metadata": {
  "kernelspec": {
   "display_name": "Python 3",
   "language": "python",
   "name": "python3"
  },
  "language_info": {
   "codemirror_mode": {
    "name": "ipython",
    "version": 3
   },
   "file_extension": ".py",
   "mimetype": "text/x-python",
   "name": "python",
   "nbconvert_exporter": "python",
   "pygments_lexer": "ipython3",
   "version": "3.12.2"
  }
 },
 "nbformat": 4,
 "nbformat_minor": 2
}
